{
 "cells": [
  {
   "cell_type": "code",
   "execution_count": 1,
   "id": "9c8af877",
   "metadata": {},
   "outputs": [],
   "source": [
    "import os\n",
    "import json\n",
    "import csv\n",
    "from numpy import genfromtxt\n",
    "import pandas as pd\n",
    "import numpy as np\n",
    "from wordcloud import WordCloud, STOPWORDS, ImageColorGenerator\n",
    "import matplotlib.pyplot as plt\n",
    "from PIL import Image\n",
    "import math"
   ]
  },
  {
   "cell_type": "code",
   "execution_count": 11,
   "id": "62986eb8",
   "metadata": {},
   "outputs": [],
   "source": [
    "# Dataset containing playlist and artist information\n",
    "spotify_dataset = pd.read_csv(\"processed_dataset_separated.csv\")\n",
    "# Dataset containing genres and additional information\n",
    "genre_dataset = pd.read_csv(\"data_w_genres.csv\")\n",
    "genres = np.asarray(genre_dataset)"
   ]
  },
  {
   "cell_type": "code",
   "execution_count": 3,
   "id": "2ad58193",
   "metadata": {},
   "outputs": [],
   "source": [
    "# Getting a list of all artists in a playlist. This is done for each playlist\n",
    "artist_dataset = np.asarray(spotify_dataset)[:,5:380]\n",
    "artists = []\n",
    "for artist_list in artist_dataset:\n",
    "    temp = []\n",
    "    for artist in artist_list:\n",
    "        if pd.notna(artist):\n",
    "            temp.append(artist)\n",
    "    artists.append(temp)\n",
    "    #artists.append({x for x in a if pd.notna(x)})"
   ]
  },
  {
   "cell_type": "code",
   "execution_count": 24,
   "id": "e9c49337",
   "metadata": {},
   "outputs": [],
   "source": [
    "# Create dataset of playlists and their artists in a way that makes it possible \n",
    "# to merge with genre dataset based on key (artist)\n",
    "csv_file = open('genres_and_artists.csv', 'w', newline='', encoding='utf-8')\n",
    "writer = csv.writer(csv_file)\n",
    "n = 0\n",
    "writer.writerow(['playlist_name', 'num_followers', 'num_tracks', 'artists'])\n",
    "for x in range(len(artists)):\n",
    "    for artist in artists[n]:\n",
    "        writer.writerow([spotify_dataset.playlist_name[n], spotify_dataset.num_followers[n], spotify_dataset.num_tracks[n], artist])\n",
    "    n += 1\n",
    "csv_file.close()"
   ]
  },
  {
   "cell_type": "code",
   "execution_count": 26,
   "id": "9a465ecd",
   "metadata": {},
   "outputs": [],
   "source": [
    "# Open newly create dataset of playlists and their artists\n",
    "genres_and_artists = pd.read_csv(\"genres_and_artists.csv\")"
   ]
  },
  {
   "cell_type": "code",
   "execution_count": 28,
   "id": "76b3f4f8",
   "metadata": {},
   "outputs": [],
   "source": [
    "# Merge datasets to add artist information to spotify playlist\n",
    "final_data=genres_and_artists.merge(genre_dataset,on=\"artists\")\n",
    "final_data.to_csv(\"processed_genre_dataset.csv\")"
   ]
  }
 ],
 "metadata": {
  "kernelspec": {
   "display_name": "Python 3 (ipykernel)",
   "language": "python",
   "name": "python3"
  },
  "language_info": {
   "codemirror_mode": {
    "name": "ipython",
    "version": 3
   },
   "file_extension": ".py",
   "mimetype": "text/x-python",
   "name": "python",
   "nbconvert_exporter": "python",
   "pygments_lexer": "ipython3",
   "version": "3.11.4"
  }
 },
 "nbformat": 4,
 "nbformat_minor": 5
}

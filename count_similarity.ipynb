{
 "cells": [
  {
   "cell_type": "code",
   "execution_count": 1,
   "id": "1d36124a",
   "metadata": {},
   "outputs": [],
   "source": [
    "import csv\n",
    "import mmh3\n",
    "import numpy as np"
   ]
  },
  {
   "cell_type": "code",
   "execution_count": 2,
   "id": "8446f6bf",
   "metadata": {},
   "outputs": [],
   "source": [
    "csv_file = open('processed_dataset_separated.csv', newline='', encoding='utf-8')\n",
    "reader = csv.reader(csv_file, delimiter=',')\n",
    "\n",
    "max_tracks = 100\n",
    "\n",
    "playlist_names = []\n",
    "artists = []\n",
    "tracks = []\n",
    "albums = []\n",
    "for row in reader:\n",
    "    if row[0] == 'playlist_name': continue\n",
    "    \n",
    "    playlist_names.append(row[0])\n",
    "    \n",
    "    read_list = row[5:5+max_tracks]\n",
    "    while '' in read_list: read_list.remove('')\n",
    "    artists.append(read_list)\n",
    "    \n",
    "    read_list = row[5+max_tracks:5+2*max_tracks]\n",
    "    while '' in read_list: read_list.remove('')\n",
    "    tracks.append(read_list)\n",
    "    \n",
    "    read_list = row[5+2*max_tracks:5+3*max_tracks]\n",
    "    while '' in read_list: read_list.remove('')\n",
    "    albums.append(read_list)\n",
    "\n",
    "csv_file.close()"
   ]
  },
  {
   "cell_type": "code",
   "execution_count": 3,
   "id": "273a264f",
   "metadata": {},
   "outputs": [],
   "source": [
    "artist_shingles = []\n",
    "track_shingles = []\n",
    "album_shingles = []\n",
    "for i in range(len(playlist_names)):\n",
    "    artist_shingles.append(set(artists[i]))\n",
    "    track_shingles.append(set(tracks[i]))\n",
    "    album_shingles.append(set(albums[i]))"
   ]
  },
  {
   "cell_type": "code",
   "execution_count": 4,
   "id": "8afba895",
   "metadata": {},
   "outputs": [],
   "source": [
    "def listhash(l,seed):\n",
    "    val = 0\n",
    "    for e in l:\n",
    "        val = val ^ mmh3.hash(e, seed)\n",
    "    return val\n",
    "def minhash(shingles: list, k: int):\n",
    "    minhashes = []\n",
    "    for i in range(k):\n",
    "        minhashes.append(-1)\n",
    "        for shingle in shingles:\n",
    "            currenthash = listhash([shingle], i)\n",
    "            if(currenthash < minhashes[i] or minhashes[i] == -1):\n",
    "                minhashes[i] = currenthash\n",
    "    return minhashes"
   ]
  },
  {
   "cell_type": "code",
   "execution_count": 5,
   "id": "223d9df9",
   "metadata": {},
   "outputs": [],
   "source": [
    "k = 50\n",
    "artist_hashes = []\n",
    "track_hashes = []\n",
    "album_hashes = []\n",
    "for i in range(len(playlist_names)):\n",
    "    artist_hashes.append(minhash(artist_shingles[i], k))\n",
    "    track_hashes.append(minhash(track_shingles[i], k))\n",
    "    album_hashes.append(minhash(album_shingles[i], k))"
   ]
  },
  {
   "cell_type": "code",
   "execution_count": 6,
   "id": "6076d954",
   "metadata": {},
   "outputs": [],
   "source": [
    "def jaccard(list1: list, list2: list):\n",
    "    crosssection = len(set(list1).intersection(list2))\n",
    "    return crosssection / (len(list1) + len(list2) - crosssection)"
   ]
  },
  {
   "cell_type": "code",
   "execution_count": 7,
   "id": "dfecb73f",
   "metadata": {},
   "outputs": [],
   "source": [
    "artist_similarity_matrix = np.empty((len(playlist_names), len(playlist_names)))\n",
    "np.fill_diagonal(artist_similarity_matrix, 1)\n",
    "track_similarity_matrix = np.empty((len(playlist_names), len(playlist_names)))\n",
    "np.fill_diagonal(track_similarity_matrix, 1)\n",
    "album_similarity_matrix = np.empty((len(playlist_names), len(playlist_names)))\n",
    "np.fill_diagonal(album_similarity_matrix, 1)"
   ]
  },
  {
   "cell_type": "code",
   "execution_count": 8,
   "id": "1552d549",
   "metadata": {},
   "outputs": [],
   "source": [
    "for i in range(len(playlist_names)):\n",
    "    for j in range(i+1, len(playlist_names)):\n",
    "        \n",
    "        artist_similarity = jaccard(artist_hashes[i], artist_hashes[j])\n",
    "        artist_similarity_matrix[i,j] = artist_similarity\n",
    "        artist_similarity_matrix[j,i] = artist_similarity\n",
    "        \n",
    "        track_similarity = jaccard(track_hashes[i], track_hashes[j])\n",
    "        track_similarity_matrix[i,j] = track_similarity\n",
    "        track_similarity_matrix[j,i] = track_similarity\n",
    "        \n",
    "        album_similarity = jaccard(album_hashes[i], album_hashes[j])\n",
    "        album_similarity_matrix[i,j] = album_similarity\n",
    "        album_similarity_matrix[j,i] = album_similarity"
   ]
  },
  {
   "cell_type": "code",
   "execution_count": 9,
   "id": "e28ed6bf",
   "metadata": {},
   "outputs": [],
   "source": [
    "artist_similarities = []\n",
    "track_similarities = []\n",
    "album_similarities = []\n",
    "for i in range(len(playlist_names)):\n",
    "    for j in range(i+1, len(playlist_names)):\n",
    "        artist_similarities.append(artist_similarity_matrix[i,j])\n",
    "        track_similarities.append(track_similarity_matrix[i,j])\n",
    "        album_similarities.append(album_similarity_matrix[i,j])"
   ]
  },
  {
   "cell_type": "code",
   "execution_count": 10,
   "id": "a6094887",
   "metadata": {},
   "outputs": [
    {
     "data": {
      "image/png": "[encoded data removed]",
      "text/plain": [
       "<Figure size 640x480 with 1 Axes>"
      ]
     },
     "metadata": {},
     "output_type": "display_data"
    },
    {
     "data": {
      "image/png": "[encoded data removed]",
      "text/plain": [
       "<Figure size 640x480 with 1 Axes>"
      ]
     },
     "metadata": {},
     "output_type": "display_data"
    },
    {
     "data": {
      "image/png": "[encoded data removed]",
      "text/plain": [
       "<Figure size 640x480 with 1 Axes>"
      ]
     },
     "metadata": {},
     "output_type": "display_data"
    }
   ],
   "source": [
    "import matplotlib.pyplot as plt\n",
    "bins = np.arange(0,0.11,0.01)\n",
    "plt.hist(artist_similarities, bins, log=True)\n",
    "plt.show()\n",
    "plt.hist(track_similarities, bins, log=True)\n",
    "plt.show()\n",
    "plt.hist(album_similarities, bins, log=True)\n",
    "plt.show()"
   ]
  },
  {
   "cell_type": "code",
   "execution_count": 11,
   "id": "eaaf1d3c",
   "metadata": {},
   "outputs": [
    {
     "data": {
      "text/plain": [
       "82486"
      ]
     },
     "execution_count": 11,
     "metadata": {},
     "output_type": "execute_result"
    }
   ],
   "source": [
    "artist_similarity_csv_file = open('artist_similarity.csv', 'w', newline='', encoding='utf-8')\n",
    "artist_similarity_writer = csv.writer(artist_similarity_csv_file)\n",
    "track_similarity_csv_file = open('track_similarity.csv', 'w', newline='', encoding='utf-8')\n",
    "track_similarity_writer = csv.writer(track_similarity_csv_file)\n",
    "album_similarity_csv_file = open('album_similarity.csv', 'w', newline='', encoding='utf-8')\n",
    "album_similarity_writer = csv.writer(album_similarity_csv_file)\n",
    "\n",
    "first_row = [''] + playlist_names\n",
    "artist_similarity_writer.writerow(first_row)\n",
    "track_similarity_writer.writerow(first_row)\n",
    "album_similarity_writer.writerow(first_row)"
   ]
  },
  {
   "cell_type": "code",
   "execution_count": 12,
   "id": "64a17917",
   "metadata": {},
   "outputs": [],
   "source": [
    "for i in range(len(playlist_names)):\n",
    "    \n",
    "    artist_similarity_writer.writerow([playlist_names[i]] + list(artist_similarity_matrix[i]))\n",
    "    track_similarity_writer.writerow([playlist_names[i]] + list(track_similarity_matrix[i]))\n",
    "    album_similarity_writer.writerow([playlist_names[i]] + list(album_similarity_matrix[i]))\n",
    "    \n",
    "artist_similarity_csv_file.close()\n",
    "track_similarity_csv_file.close()\n",
    "album_similarity_csv_file.close()"
   ]
  },
  {
   "cell_type": "code",
   "execution_count": null,
   "id": "1ee20c62",
   "metadata": {},
   "outputs": [],
   "source": []
  }
 ],
 "metadata": {
  "kernelspec": {
   "display_name": "02807",
   "language": "python",
   "name": "02807"
  },
  "language_info": {
   "codemirror_mode": {
    "name": "ipython",
    "version": 3
   },
   "file_extension": ".py",
   "mimetype": "text/x-python",
   "name": "python",
   "nbconvert_exporter": "python",
   "pygments_lexer": "ipython3",
   "version": "3.10.9"
  }
 },
 "nbformat": 4,
 "nbformat_minor": 5
}

{
 "cells": [
  {
   "cell_type": "code",
   "execution_count": 9,
   "id": "543ffe53",
   "metadata": {},
   "outputs": [],
   "source": [
    "import os\n",
    "import json"
   ]
  },
  {
   "cell_type": "code",
   "execution_count": 10,
   "id": "8a525c9a",
   "metadata": {},
   "outputs": [],
   "source": [
    "data_dir = os.path.join('spotify_million_playlist_dataset', 'data')\n",
    "file_list = os.listdir(data_dir)"
   ]
  },
  {
   "cell_type": "code",
   "execution_count": 11,
   "id": "e9107e33",
   "metadata": {},
   "outputs": [
    {
     "data": {
      "text/plain": [
       "82"
      ]
     },
     "execution_count": 11,
     "metadata": {},
     "output_type": "execute_result"
    }
   ],
   "source": [
    "import csv\n",
    "csv_file = open('processed_dataset.csv', 'w', newline='', encoding='utf-8')\n",
    "writer = csv.writer(csv_file)\n",
    "\n",
    "fields = ['playlist_name', 'num_tracks', 'num_albums', 'num_followers', 'artists', 'tracks', 'albums', 'duration']\n",
    "writer.writerow(fields)"
   ]
  },
  {
   "cell_type": "code",
   "execution_count": 12,
   "id": "b6411724",
   "metadata": {},
   "outputs": [
    {
     "name": "stdout",
     "output_type": "stream",
     "text": [
      "7988\n"
     ]
    }
   ],
   "source": [
    "n = 0\n",
    "for filename in file_list:\n",
    "    with open(os.path.join(data_dir, filename)) as json_file:\n",
    "        data = json.load(json_file)\n",
    "    for playlist in data['playlists']:\n",
    "        if(playlist['num_followers'] >= 5) and playlist['num_tracks'] >= 5 and playlist['num_tracks'] <= 50:\n",
    "            artists = ''\n",
    "            tracks = ''\n",
    "            albums = ''\n",
    "            duration = 0\n",
    "            for track in playlist['tracks']:\n",
    "                artists += ' ' + track['artist_name']\n",
    "                tracks += ' ' + track['track_name']\n",
    "                albums += ' ' + track['album_name']\n",
    "                duration += track['duration_ms'] / 1000\n",
    "            writer.writerow([playlist['name'], playlist['num_tracks'], playlist['num_albums'], playlist['num_followers'],\n",
    "                            artists[1:], tracks[1:], albums[1:], round(duration, 2)])\n",
    "            n += 1\n",
    "csv_file.close()\n",
    "print(n)"
   ]
  },
  {
   "cell_type": "code",
   "execution_count": null,
   "id": "8f4e4b5e",
   "metadata": {},
   "outputs": [],
   "source": []
  },
  {
   "cell_type": "code",
   "execution_count": null,
   "id": "ecd8883f",
   "metadata": {},
   "outputs": [],
   "source": []
  }
 ],
 "metadata": {
  "kernelspec": {
   "display_name": "Python 3 (ipykernel)",
   "language": "python",
   "name": "python3"
  },
  "language_info": {
   "codemirror_mode": {
    "name": "ipython",
    "version": 3
   },
   "file_extension": ".py",
   "mimetype": "text/x-python",
   "name": "python",
   "nbconvert_exporter": "python",
   "pygments_lexer": "ipython3",
   "version": "3.11.4"
  }
 },
 "nbformat": 4,
 "nbformat_minor": 5
}

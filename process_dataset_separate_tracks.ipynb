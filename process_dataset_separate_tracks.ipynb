{
 "cells": [
  {
   "cell_type": "code",
   "execution_count": 1,
   "id": "f73796dc",
   "metadata": {},
   "outputs": [],
   "source": [
    "import os\n",
    "import json\n",
    "import csv"
   ]
  },
  {
   "cell_type": "code",
   "execution_count": 2,
   "id": "3c4d3a0b",
   "metadata": {},
   "outputs": [],
   "source": [
    "data_dir = os.path.join('..', 'spotify_million_playlist_dataset', 'data')\n",
    "file_list = os.listdir(data_dir)"
   ]
  },
  {
   "cell_type": "code",
   "execution_count": 3,
   "id": "ca112ece",
   "metadata": {},
   "outputs": [
    {
     "data": {
      "text/plain": [
       "2530"
      ]
     },
     "execution_count": 3,
     "metadata": {},
     "output_type": "execute_result"
    }
   ],
   "source": [
    "csv_file = open('processed_dataset_separated.csv', 'w', newline='', encoding='utf-8')\n",
    "writer = csv.writer(csv_file)\n",
    "\n",
    "min_followers = 5\n",
    "min_tracks = 50\n",
    "max_tracks = 100\n",
    "\n",
    "fields = ['playlist_name', 'num_tracks', 'num_albums', 'num_followers', 'duration']\n",
    "for i in range(max_tracks): fields.append(f'artist{i}')\n",
    "for i in range(max_tracks): fields.append(f'track{i}')\n",
    "for i in range(max_tracks): fields.append(f'album{i}')\n",
    "writer.writerow(fields)"
   ]
  },
  {
   "cell_type": "code",
   "execution_count": 7,
   "id": "3ca1dc54",
   "metadata": {},
   "outputs": [
    {
     "name": "stdout",
     "output_type": "stream",
     "text": [
      "8850\n"
     ]
    }
   ],
   "source": [
    "n = 0\n",
    "for filename in file_list:\n",
    "    with open(os.path.join(data_dir, filename)) as json_file:\n",
    "        data = json.load(json_file)\n",
    "    for playlist in data['playlists']:\n",
    "        if(playlist['num_followers'] >= min_followers and\n",
    "                                    playlist['num_tracks'] >= min_tracks and\n",
    "                                    playlist['num_tracks'] <= max_tracks):\n",
    "            duration = 0\n",
    "            artists = []\n",
    "            tracks = []\n",
    "            albums = []\n",
    "            for track in playlist['tracks']:\n",
    "                artists.append(track['artist_name'])\n",
    "                tracks.append(track['track_name'])\n",
    "                albums.append(track['album_name'])\n",
    "                duration += track['duration_ms'] / 1000\n",
    "            for i in range(len(artists), max_tracks):\n",
    "                artists.append('')\n",
    "                tracks.append('')\n",
    "                albums.append('')\n",
    "            writer.writerow([playlist['name'], playlist['num_tracks'], playlist['num_albums'], playlist['num_followers'],\n",
    "                             round(duration, 2)] + artists + tracks + albums)\n",
    "            n += 1\n",
    "csv_file.close()\n",
    "print(n)"
   ]
  },
  {
   "cell_type": "code",
   "execution_count": null,
   "id": "5143781a",
   "metadata": {},
   "outputs": [],
   "source": []
  }
 ],
 "metadata": {
  "kernelspec": {
   "display_name": "Python 3 (ipykernel)",
   "language": "python",
   "name": "python3"
  },
  "language_info": {
   "codemirror_mode": {
    "name": "ipython",
    "version": 3
   },
   "file_extension": ".py",
   "mimetype": "text/x-python",
   "name": "python",
   "nbconvert_exporter": "python",
   "pygments_lexer": "ipython3",
   "version": "3.11.4"
  }
 },
 "nbformat": 4,
 "nbformat_minor": 5
}

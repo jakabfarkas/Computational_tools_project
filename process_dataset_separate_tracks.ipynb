{
 "cells": [
  {
   "cell_type": "code",
   "execution_count": 1,
   "id": "f73796dc",
   "metadata": {},
   "outputs": [],
   "source": [
    "import os\n",
    "import json\n",
    "import csv"
   ]
  },
  {
   "cell_type": "code",
   "execution_count": 2,
   "id": "3c4d3a0b",
   "metadata": {},
   "outputs": [],
   "source": [
    "# listing out the json files in the dataset\n",
    "data_dir = os.path.join('..', 'spotify_million_playlist_dataset', 'data')\n",
    "file_list = os.listdir(data_dir)"
   ]
  },
  {
   "cell_type": "code",
   "execution_count": 3,
   "id": "ca112ece",
   "metadata": {},
   "outputs": [
    {
     "data": {
      "text/plain": [
       "2530"
      ]
     },
     "execution_count": 3,
     "metadata": {},
     "output_type": "execute_result"
    }
   ],
   "source": [
    "# creating the csv file to write the data of the used playlists\n",
    "# (utf-8 encoding was important, as the dataset contained special characters)\n",
    "csv_file = open('processed_dataset_separated.csv', 'w', newline='', encoding='utf-8')\n",
    "writer = csv.writer(csv_file)\n",
    "\n",
    "# criteria parameters on which playlists to use\n",
    "min_followers = 5\n",
    "min_tracks = 50\n",
    "max_tracks = 100\n",
    "\n",
    "# write the header of the csv file\n",
    "fields = ['playlist_name', 'num_tracks', 'num_albums', 'num_followers', 'duration']\n",
    "for i in range(max_tracks): fields.append(f'artist{i}')\n",
    "for i in range(max_tracks): fields.append(f'track{i}')\n",
    "for i in range(max_tracks): fields.append(f'album{i}')\n",
    "writer.writerow(fields)"
   ]
  },
  {
   "cell_type": "code",
   "execution_count": 7,
   "id": "3ca1dc54",
   "metadata": {},
   "outputs": [
    {
     "name": "stdout",
     "output_type": "stream",
     "text": [
      "8850\n"
     ]
    }
   ],
   "source": [
    "# counter for the number of playlist which match our defined criteria\n",
    "n = 0\n",
    "\n",
    "# go through the 1000 json files\n",
    "for filename in file_list:\n",
    "    \n",
    "    # load data from the current json file\n",
    "    with open(os.path.join(data_dir, filename)) as json_file:\n",
    "        data = json.load(json_file)\n",
    "        \n",
    "    # go through the 1000 playlists in the current json file\n",
    "    for playlist in data['playlists']:\n",
    "        \n",
    "        # check if the playlist is withing our defined criteria\n",
    "        if(playlist['num_followers'] >= min_followers and\n",
    "                                    playlist['num_tracks'] >= min_tracks and\n",
    "                                    playlist['num_tracks'] <= max_tracks):\n",
    "            duration = 0\n",
    "            artists = []\n",
    "            tracks = []\n",
    "            albums = []\n",
    "            \n",
    "            # collect the data from dictionaries to lists to easily write into our csv file\n",
    "            for track in playlist['tracks']:\n",
    "                artists.append(track['artist_name'])\n",
    "                tracks.append(track['track_name'])\n",
    "                albums.append(track['album_name'])\n",
    "                duration += track['duration_ms'] / 1000\n",
    "                \n",
    "            # make all lists 100 elements long (the maximum number of tracks in a playlist we use) to match our csv file structure\n",
    "            for i in range(len(artists), max_tracks):\n",
    "                artists.append('')\n",
    "                tracks.append('')\n",
    "                albums.append('')\n",
    "            \n",
    "            # write the collected data into the csv file\n",
    "            writer.writerow([playlist['name'], playlist['num_tracks'], playlist['num_albums'], playlist['num_followers'],\n",
    "                             round(duration, 2)] + artists + tracks + albums)\n",
    "            n += 1\n",
    "            \n",
    "# close the file\n",
    "csv_file.close()\n",
    "\n",
    "# print the number of playlist we will use in our analysis\n",
    "print(n)"
   ]
  },
  {
   "cell_type": "code",
   "execution_count": null,
   "id": "5143781a",
   "metadata": {},
   "outputs": [],
   "source": []
  }
 ],
 "metadata": {
  "kernelspec": {
   "display_name": "Python 3 (ipykernel)",
   "language": "python",
   "name": "python3"
  },
  "language_info": {
   "codemirror_mode": {
    "name": "ipython",
    "version": 3
   },
   "file_extension": ".py",
   "mimetype": "text/x-python",
   "name": "python",
   "nbconvert_exporter": "python",
   "pygments_lexer": "ipython3",
   "version": "3.11.4"
  }
 },
 "nbformat": 4,
 "nbformat_minor": 5
}
